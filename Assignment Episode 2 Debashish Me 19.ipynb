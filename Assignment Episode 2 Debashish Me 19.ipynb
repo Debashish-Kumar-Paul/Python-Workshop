{
 "cells": [
  {
   "cell_type": "markdown",
   "id": "french-productivity",
   "metadata": {},
   "source": [
    "<b> Problem 1 <b>"
   ]
  },
  {
   "cell_type": "code",
   "execution_count": 2,
   "id": "combined-lease",
   "metadata": {},
   "outputs": [
    {
     "name": "stdout",
     "output_type": "stream",
     "text": [
      "4\n"
     ]
    }
   ],
   "source": [
    "list=[2,3,4,5,6,7,8,9]\n",
    "l1=list[2]\n",
    "print(l1) "
   ]
  },
  {
   "cell_type": "markdown",
   "id": "elder-graphic",
   "metadata": {},
   "source": [
    "<b> Problem 2 <b>"
   ]
  },
  {
   "cell_type": "code",
   "execution_count": 5,
   "id": "convenient-boundary",
   "metadata": {},
   "outputs": [
    {
     "name": "stdin",
     "output_type": "stream",
     "text": [
      " 2\n",
      " 3\n"
     ]
    },
    {
     "name": "stdout",
     "output_type": "stream",
     "text": [
      "The sum is 5\n",
      "The difference is -1\n",
      "The product is 6\n"
     ]
    }
   ],
   "source": [
    "a=int(input())\n",
    "b=int(input())\n",
    "c=a+b\n",
    "print(\"The sum is {0}\". format(c))\n",
    "d=a-b\n",
    "print(\"The difference is {0}\". format(d)) \n",
    "e=a*b\n",
    "print(\"The product is {0}\". format(e))\n"
   ]
  },
  {
   "cell_type": "markdown",
   "id": "altered-effectiveness",
   "metadata": {},
   "source": [
    "<b> Problem 3 <b>"
   ]
  },
  {
   "cell_type": "code",
   "execution_count": 6,
   "id": "through-active",
   "metadata": {},
   "outputs": [
    {
     "name": "stdin",
     "output_type": "stream",
     "text": [
      " 5\n",
      " 6\n"
     ]
    },
    {
     "name": "stdout",
     "output_type": "stream",
     "text": [
      "The integer division is 0\n",
      "The float division is 0.8333333333333334\n"
     ]
    }
   ],
   "source": [
    "a=int(input())\n",
    "b=int(input())\n",
    "c=a//b\n",
    "print(\"The integer division is {0}\". format(c))\n",
    "d=a/b\n",
    "print(\"The float division is {0}\". format(d))"
   ]
  },
  {
   "cell_type": "markdown",
   "id": "approved-mineral",
   "metadata": {},
   "source": [
    "<b> Problem 4 <b>"
   ]
  },
  {
   "cell_type": "code",
   "execution_count": 7,
   "id": "diverse-bracelet",
   "metadata": {},
   "outputs": [
    {
     "name": "stdout",
     "output_type": "stream",
     "text": [
      "Red\n",
      "Balck\n"
     ]
    }
   ],
   "source": [
    "color_list=[\"Red\", \"Green\", \" White\", \"Balck\"]\n",
    "f=color_list[0]\n",
    "l=color_list[3]\n",
    "print(f)\n",
    "print(l) "
   ]
  },
  {
   "cell_type": "markdown",
   "id": "vertical-roberts",
   "metadata": {},
   "source": [
    "<b> Problem 5 <b>"
   ]
  },
  {
   "cell_type": "code",
   "execution_count": 8,
   "id": "informational-illustration",
   "metadata": {},
   "outputs": [
    {
     "name": "stdout",
     "output_type": "stream",
     "text": [
      "string that you \"don't\" have to esacpe\n",
      "This\n",
      "is a........... mutli line\n",
      "herdoc string ___________> example\n"
     ]
    }
   ],
   "source": [
    "sam=\"\"\"string that you \"don't\" have to esacpe\n",
    "This\n",
    "is a........... mutli line\n",
    "herdoc string ___________> example\"\"\"\n",
    "print(sam)"
   ]
  },
  {
   "cell_type": "markdown",
   "id": "fifth-stanley",
   "metadata": {},
   "source": [
    "<b> Problem 6 <b>"
   ]
  },
  {
   "cell_type": "code",
   "execution_count": 10,
   "id": "thorough-doubt",
   "metadata": {},
   "outputs": [
    {
     "name": "stdin",
     "output_type": "stream",
     "text": [
      "base 3.2\n",
      "height 5.4\n"
     ]
    },
    {
     "name": "stdout",
     "output_type": "stream",
     "text": [
      "The area of the triangle is 8.64\n"
     ]
    }
   ],
   "source": [
    "b=float(input(\"base\"))\n",
    "h=float(input(\"height\"))\n",
    "c=0.5\n",
    "a=c*b*h\n",
    "print(\"The area of the triangle is {0}\". format(a)) "
   ]
  },
  {
   "cell_type": "markdown",
   "id": "complex-grave",
   "metadata": {},
   "source": [
    "<b> Problem 7 <b>"
   ]
  },
  {
   "cell_type": "code",
   "execution_count": 11,
   "id": "communist-grocery",
   "metadata": {},
   "outputs": [
    {
     "name": "stdout",
     "output_type": "stream",
     "text": [
      "Debashish\n",
      "22\n",
      "Bogura\n"
     ]
    }
   ],
   "source": [
    "print(\"Debashish\",\"22\",\"Bogura\",sep='\\n')"
   ]
  },
  {
   "cell_type": "markdown",
   "id": "homeless-running",
   "metadata": {},
   "source": [
    "<b> Problem 8 <b>"
   ]
  },
  {
   "cell_type": "code",
   "execution_count": 12,
   "id": "mobile-peace",
   "metadata": {},
   "outputs": [
    {
     "name": "stdin",
     "output_type": "stream",
     "text": [
      "principle amount 4\n",
      "rate 84\n",
      "timespan 4\n"
     ]
    },
    {
     "name": "stdout",
     "output_type": "stream",
     "text": [
      "compound interest is 25.439999999999998\n"
     ]
    }
   ],
   "source": [
    "p=float(input(\"principle amount\"))\n",
    "r=float(input(\"rate\"))\n",
    "t=float(input(\"timespan\"))\n",
    "a=p*t*(1+r/100)\n",
    "c=a-p\n",
    "print(\"compound interest is {0}\". format(c))"
   ]
  },
  {
   "cell_type": "markdown",
   "id": "collected-quantity",
   "metadata": {},
   "source": [
    "<b> Problem 9 <b>"
   ]
  },
  {
   "cell_type": "code",
   "execution_count": 13,
   "id": "great-durham",
   "metadata": {},
   "outputs": [
    {
     "name": "stdout",
     "output_type": "stream",
     "text": [
      "\n",
      "* * * * *\n",
      " * * * *\n",
      "  * * *\n",
      "   * *\n",
      "    *\n",
      "    \n"
     ]
    }
   ],
   "source": [
    "print(\"\"\"\n",
    "* * * * *\n",
    " * * * *\n",
    "  * * *\n",
    "   * *\n",
    "    *\n",
    "    \"\"\")"
   ]
  },
  {
   "cell_type": "markdown",
   "id": "metric-feeding",
   "metadata": {},
   "source": [
    "<b> Problem 10 <b>"
   ]
  },
  {
   "cell_type": "code",
   "execution_count": 14,
   "id": "spatial-playback",
   "metadata": {},
   "outputs": [
    {
     "name": "stdin",
     "output_type": "stream",
     "text": [
      "Enter celcius temperature 30\n"
     ]
    },
    {
     "name": "stdout",
     "output_type": "stream",
     "text": [
      "The Fahrenheit Temperature is 86.0\n"
     ]
    }
   ],
   "source": [
    "c=float(input(\"Enter celcius temperature\")) \n",
    "f=(c*1.8)+32\n",
    "print(\"The Fahrenheit Temperature is {0}\". format(f))   "
   ]
  },
  {
   "cell_type": "markdown",
   "id": "offshore-google",
   "metadata": {},
   "source": [
    "<b><i> About Data Types <i><b>"
   ]
  },
  {
   "cell_type": "markdown",
   "id": "contemporary-exception",
   "metadata": {},
   "source": [
    "Data types are the classification or categorization of data items. It represents the kind of value that tells what operations can be performed on a particular data. Since everything is an object in python programming, data types are actually classes amd variables are instance of these classes.     "
   ]
  },
  {
   "cell_type": "code",
   "execution_count": 1,
   "id": "greenhouse-blink",
   "metadata": {},
   "outputs": [
    {
     "name": "stdout",
     "output_type": "stream",
     "text": [
      "<class 'int'>\n"
     ]
    }
   ],
   "source": [
    "x=10\n",
    "print(type(x)) #integer"
   ]
  },
  {
   "cell_type": "code",
   "execution_count": 3,
   "id": "limiting-ensemble",
   "metadata": {},
   "outputs": [
    {
     "name": "stdout",
     "output_type": "stream",
     "text": [
      "<class 'float'>\n"
     ]
    }
   ],
   "source": [
    "y=3.45\n",
    "print(type(y)) #float"
   ]
  },
  {
   "cell_type": "code",
   "execution_count": 4,
   "id": "sophisticated-border",
   "metadata": {},
   "outputs": [
    {
     "name": "stdout",
     "output_type": "stream",
     "text": [
      "<class 'str'>\n"
     ]
    }
   ],
   "source": [
    "a=\"IEEE Hstu Student Branch\"\n",
    "print(type(a)) #string "
   ]
  },
  {
   "cell_type": "code",
   "execution_count": 5,
   "id": "removed-contemporary",
   "metadata": {},
   "outputs": [
    {
     "name": "stdout",
     "output_type": "stream",
     "text": [
      "<class 'complex'>\n"
     ]
    }
   ],
   "source": [
    "b=4j\n",
    "print(type(b)) #complex"
   ]
  },
  {
   "cell_type": "code",
   "execution_count": 6,
   "id": "former-advice",
   "metadata": {},
   "outputs": [
    {
     "name": "stdout",
     "output_type": "stream",
     "text": [
      "<class 'list'>\n"
     ]
    }
   ],
   "source": [
    "c=[1,3,4,56,7]\n",
    "print(type(c)) #list"
   ]
  },
  {
   "cell_type": "code",
   "execution_count": 7,
   "id": "initial-booth",
   "metadata": {},
   "outputs": [
    {
     "name": "stdout",
     "output_type": "stream",
     "text": [
      "<class 'tuple'>\n"
     ]
    }
   ],
   "source": [
    "d=(1,2,3,4,5)\n",
    "print(type(d)) #touple"
   ]
  },
  {
   "cell_type": "code",
   "execution_count": 8,
   "id": "heavy-friday",
   "metadata": {},
   "outputs": [
    {
     "name": "stdout",
     "output_type": "stream",
     "text": [
      "<class 'set'>\n"
     ]
    }
   ],
   "source": [
    "e={1,2,3,4,6}\n",
    "print(type(e)) #set "
   ]
  },
  {
   "cell_type": "code",
   "execution_count": 9,
   "id": "black-external",
   "metadata": {
    "collapsed": true,
    "jupyter": {
     "outputs_hidden": true
    },
    "tags": []
   },
   "outputs": [
    {
     "name": "stdout",
     "output_type": "stream",
     "text": [
      "<class 'dict'>\n"
     ]
    }
   ],
   "source": [
    "f={\"new\":1,\"old\":2}\n",
    "print(type(f)) #dictionary "
   ]
  },
  {
   "cell_type": "markdown",
   "id": "ultimate-singing",
   "metadata": {},
   "source": [
    "<b><i> Input And Output <i><b>"
   ]
  },
  {
   "cell_type": "markdown",
   "id": "vocal-volunteer",
   "metadata": {
    "jupyter": {
     "source_hidden": true
    },
    "tags": []
   },
   "source": [
    "spe=' ' means that there will be a space between two string values while printing. \n",
    "end'\\n' will make a new line for the string value"
   ]
  },
  {
   "cell_type": "markdown",
   "id": "honey-drain",
   "metadata": {},
   "source": [
    "<b><i>Operator<i><b>"
   ]
  },
  {
   "cell_type": "markdown",
   "id": "fluid-index",
   "metadata": {},
   "source": [
    "Python operator is a symbol that performs an operation on ome or more operands."
   ]
  },
  {
   "cell_type": "code",
   "execution_count": 10,
   "id": "adverse-baseline",
   "metadata": {},
   "outputs": [
    {
     "name": "stdout",
     "output_type": "stream",
     "text": [
      "6\n",
      "8\n",
      "5\n"
     ]
    }
   ],
   "source": [
    "a=2\n",
    "b=3\n",
    "print(a*b)\n",
    "print(a**b)\n",
    "print(a+b)"
   ]
  },
  {
   "cell_type": "code",
   "execution_count": null,
   "id": "affiliated-trigger",
   "metadata": {},
   "outputs": [],
   "source": []
  }
 ],
 "metadata": {
  "kernelspec": {
   "display_name": "Python 3",
   "language": "python",
   "name": "python3"
  },
  "language_info": {
   "codemirror_mode": {
    "name": "ipython",
    "version": 3
   },
   "file_extension": ".py",
   "mimetype": "text/x-python",
   "name": "python",
   "nbconvert_exporter": "python",
   "pygments_lexer": "ipython3",
   "version": "3.8.3"
  }
 },
 "nbformat": 4,
 "nbformat_minor": 5
}
