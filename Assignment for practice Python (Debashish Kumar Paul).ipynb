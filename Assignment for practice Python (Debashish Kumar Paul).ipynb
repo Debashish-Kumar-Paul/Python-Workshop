{
 "cells": [
  {
   "cell_type": "markdown",
   "id": "c2140724",
   "metadata": {},
   "source": [
    "<h1> 1) 1. Write a Python program to find those numbers which are divisible by 8 and 3 but multiple of 9, between 1000 and 1800 (both included). </h1>\n"
   ]
  },
  {
   "cell_type": "code",
   "execution_count": 4,
   "id": "ab3bb50f",
   "metadata": {},
   "outputs": [
    {
     "name": "stdout",
     "output_type": "stream",
     "text": [
      "1008,1080,1152,1224,1296,1368,1440,1512,1584,1656,1728,1800\n"
     ]
    }
   ],
   "source": [
    "a=[]\n",
    "for x in range(1000, 1801):\n",
    "    if (x%8==0) and (x%3==0) and (x%9==0):\n",
    "        a.append(str(x))\n",
    "print (','.join(a))\n"
   ]
  },
  {
   "cell_type": "markdown",
   "id": "7cc43be8",
   "metadata": {},
   "source": [
    "<h1>2) touple = ('I','E','E','E','H','S','T','U','S','B')\n",
    "Using this touple, write a program whose output will be IEEE HSTU SB. </h1>"
   ]
  },
  {
   "cell_type": "code",
   "execution_count": 17,
   "id": "1ca6dcbb",
   "metadata": {},
   "outputs": [
    {
     "name": "stdout",
     "output_type": "stream",
     "text": [
      "IEEE HSTU SB\n"
     ]
    }
   ],
   "source": [
    "touple=('I','E','E','E','H','S','T','U','S','B')\n",
    "a=\"\"\n",
    "for i in range(0,4):\n",
    "    a=a+touple[i]\n",
    "b=\"\"\n",
    "for j in range(4,8):\n",
    "    b=b+touple[j]\n",
    "c=\"\"\n",
    "for k in range(8,10):\n",
    "    c=c+touple[k]\n",
    "print(a,b,c)\n",
    "\n",
    "\n",
    "\n"
   ]
  },
  {
   "cell_type": "markdown",
   "id": "1ef15682",
   "metadata": {},
   "source": [
    "<h1> 3) Write a Python program to check a triangle is equilateral, isosceles or scalene. </h1>"
   ]
  },
  {
   "cell_type": "code",
   "execution_count": 22,
   "id": "5797edd2",
   "metadata": {},
   "outputs": [
    {
     "name": "stdout",
     "output_type": "stream",
     "text": [
      "Input lengths of the triangle sides: \n",
      "first side: 8\n",
      "second side: 9\n",
      "third side: 10\n",
      "The triangle is scalene\n"
     ]
    }
   ],
   "source": [
    "print(\"Input lengths of the triangle sides: \")\n",
    "a = int(input(\"first side: \"))\n",
    "b = int(input(\"second side: \"))\n",
    "c = int(input(\"third side: \"))\n",
    "\n",
    "if a == b == c:\n",
    "\tprint(\"The triangle is equilateral\")\n",
    "elif a==b or b==c or c==a:\n",
    "\tprint(\"The triangle is isosceles\")\n",
    "else:\n",
    "\tprint(\"The triangle is scalene\")"
   ]
  },
  {
   "cell_type": "markdown",
   "id": "1eddcb1d",
   "metadata": {},
   "source": [
    "<h1> 4) Write a Python program to create the multiplication table (from 1 to 10) of a number. </h1>"
   ]
  },
  {
   "cell_type": "code",
   "execution_count": 25,
   "id": "8b93a12b",
   "metadata": {},
   "outputs": [
    {
     "name": "stdout",
     "output_type": "stream",
     "text": [
      "Input a number for the multiplication table: 5\n",
      "5.0 x 1 = 5.0\n",
      "5.0 x 2 = 10.0\n",
      "5.0 x 3 = 15.0\n",
      "5.0 x 4 = 20.0\n",
      "5.0 x 5 = 25.0\n",
      "5.0 x 6 = 30.0\n",
      "5.0 x 7 = 35.0\n",
      "5.0 x 8 = 40.0\n",
      "5.0 x 9 = 45.0\n",
      "5.0 x 10 = 50.0\n"
     ]
    }
   ],
   "source": [
    "a = float(input(\"Input a number for the multiplication table: \"))\n",
    "for i in range(1,11):\n",
    "   print(a,'x',i,'=',a*i)\n"
   ]
  },
  {
   "cell_type": "markdown",
   "id": "202063b0",
   "metadata": {},
   "source": [
    "<h1> 5) Write a python program to check whether a given year is a leap year\n",
    " </h1>"
   ]
  },
  {
   "cell_type": "code",
   "execution_count": 1,
   "id": "d77d56a8",
   "metadata": {},
   "outputs": [
    {
     "name": "stdout",
     "output_type": "stream",
     "text": [
      "Enter your year: 2000\n",
      "2000 is a leap year\n"
     ]
    }
   ],
   "source": [
    "a= int(input(\"Enter your year: \"))\n",
    "if (a % 4) == 0 and (a % 100) == 0 and (a % 400) == 0:\n",
    "           print(\"{0} is a leap year\".format(a))\n",
    "else:\n",
    "           print(\"{0} is not a leap year\".format(a))"
   ]
  },
  {
   "cell_type": "markdown",
   "id": "f11a89fa",
   "metadata": {},
   "source": [
    "<h1>6) Write the programs to get the areas of a) triangle, b)Rectangle, c) circle. </h1>"
   ]
  },
  {
   "cell_type": "code",
   "execution_count": 3,
   "id": "a5f1fba4",
   "metadata": {},
   "outputs": [
    {
     "name": "stdout",
     "output_type": "stream",
     "text": [
      "Choose the shape for calculating it's area 1. Triangle 2. Rectangle 3. Circle\n",
      "Enter the number of your choice: 2\n",
      "Enter measurments of the rectangle\n",
      "length: 5\n",
      "width: 6\n",
      "30.0 is the area of the rectangle\n"
     ]
    }
   ],
   "source": [
    "print(\"Choose the shape for calculating it's area 1. Triangle 2. Rectangle 3. Circle\")\n",
    "a=int(input(\"Enter the number of your choice: \"))\n",
    "if a==1:\n",
    "    print(\"Enter the measures of the triangle\")\n",
    "    h=float(input(\"height: \"))\n",
    "    b=float(input(\"base: \"))\n",
    "    c=0.5*b*h\n",
    "    print(c, \" is the area of the triangle\")\n",
    "elif a==2:\n",
    "    print(\"Enter measurments of the rectangle\")\n",
    "    l=float(input(\"length: \"))\n",
    "    w=float(input(\"width: \"))\n",
    "    d=l*w\n",
    "    print(d, \"is the area of the rectangle\")\n",
    "elif a==3:\n",
    "    r=float(input(\"Enter the circle's radius: \"))\n",
    "    e=3.1416*r*r\n",
    "    print(e, \"is the area of the circle\")\n",
    "elif a<<1 and a>>3: \n",
    "    print(\"Invalid Operation\")    "
   ]
  },
  {
   "cell_type": "code",
   "execution_count": null,
   "id": "d945a119",
   "metadata": {},
   "outputs": [],
   "source": []
  }
 ],
 "metadata": {
  "kernelspec": {
   "display_name": "Python 3",
   "language": "python",
   "name": "python3"
  },
  "language_info": {
   "codemirror_mode": {
    "name": "ipython",
    "version": 3
   },
   "file_extension": ".py",
   "mimetype": "text/x-python",
   "name": "python",
   "nbconvert_exporter": "python",
   "pygments_lexer": "ipython3",
   "version": "3.9.4"
  }
 },
 "nbformat": 4,
 "nbformat_minor": 5
}
