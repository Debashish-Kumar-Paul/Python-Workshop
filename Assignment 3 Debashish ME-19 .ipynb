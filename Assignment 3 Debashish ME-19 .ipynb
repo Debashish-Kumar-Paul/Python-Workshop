{
 "cells": [
  {
   "cell_type": "markdown",
   "id": "martial-decimal",
   "metadata": {},
   "source": [
    "<h1> About Flow Control <h1>\n",
    "    "
   ]
  },
  {
   "cell_type": "markdown",
   "id": "accessory-trick",
   "metadata": {},
   "source": [
    "The flow control is the order in which the program's code executes."
   ]
  },
  {
   "cell_type": "markdown",
   "id": "solid-helmet",
   "metadata": {},
   "source": [
    "1.Sequential \n",
    " Example: default statements. \n",
    " 2.Decisive/Selection \n",
    " Example: simple if, if else, if elif else, nested if \n",
    " 3.Repetition  \n",
    " Example: for loop, while loop\n",
    " "
   ]
  },
  {
   "cell_type": "markdown",
   "id": "contained-liechtenstein",
   "metadata": {},
   "source": [
    "<h1> Conditional Statement <h1> "
   ]
  },
  {
   "cell_type": "markdown",
   "id": "imported-playing",
   "metadata": {},
   "source": [
    "⇨Conditional statement in Python perform different computations or actions depending on whether a specific Boolean constarin evaluates to true or false.   "
   ]
  },
  {
   "cell_type": "markdown",
   "id": "institutional-kentucky",
   "metadata": {
    "tags": []
   },
   "source": [
    "⇨The structures of conditional statement  "
   ]
  },
  {
   "cell_type": "markdown",
   "id": "apart-natural",
   "metadata": {},
   "source": [
    "<h1> Problem 1 <h1>"
   ]
  },
  {
   "cell_type": "code",
   "execution_count": 1,
   "id": "periodic-grade",
   "metadata": {},
   "outputs": [
    {
     "name": "stdin",
     "output_type": "stream",
     "text": [
      "Enter your integer number:  4\n"
     ]
    },
    {
     "name": "stdout",
     "output_type": "stream",
     "text": [
      "The number is even\n"
     ]
    }
   ],
   "source": [
    "a=int(input(\"Enter your integer number: \"))\n",
    "if a%2==0:\n",
    "    print(\"The number is even\")\n",
    "else:\n",
    "    print(\"The number is odd\")\n",
    "    "
   ]
  },
  {
   "cell_type": "markdown",
   "id": "nearby-atmosphere",
   "metadata": {},
   "source": [
    "<h1> Problem 2 <h1>"
   ]
  },
  {
   "cell_type": "code",
   "execution_count": 3,
   "id": "moving-insurance",
   "metadata": {},
   "outputs": [
    {
     "name": "stdin",
     "output_type": "stream",
     "text": [
      "Enter your integer number: 150\n"
     ]
    },
    {
     "name": "stdout",
     "output_type": "stream",
     "text": [
      "150 is not divisible\n"
     ]
    }
   ],
   "source": [
    "a=int(input(\"Enter your integer number:\"))\n",
    "if 100<=a<200 and a%9==0:\n",
    "    print(a,\"is divisible\")\n",
    "else:\n",
    "    print(a,\"is not divisible\") \n",
    "#2a    "
   ]
  },
  {
   "cell_type": "code",
   "execution_count": 4,
   "id": "persistent-premiere",
   "metadata": {},
   "outputs": [
    {
     "name": "stdin",
     "output_type": "stream",
     "text": [
      "Enter your integer value: 304\n"
     ]
    },
    {
     "name": "stdout",
     "output_type": "stream",
     "text": [
      "304 is not divisible\n",
      "304 is not multiple\n"
     ]
    }
   ],
   "source": [
    "#2b\n",
    "a=int(input(\"Enter your integer value:\"))  \n",
    "if 100<a<500 and a%7==0:\n",
    "    print(a,\"is divisible\")\n",
    "else:\n",
    "    print(a,\"is not divisible\") \n",
    "if 100<a<500 and a%5==0:\n",
    "    print(a,\"is multiple\")\n",
    "else:\n",
    "    print(a,\"is not multiple\") "
   ]
  },
  {
   "cell_type": "markdown",
   "id": "exempt-label",
   "metadata": {},
   "source": [
    "<h1> Problem 3 <h1>"
   ]
  },
  {
   "cell_type": "code",
   "execution_count": 7,
   "id": "recent-blend",
   "metadata": {},
   "outputs": [
    {
     "name": "stdin",
     "output_type": "stream",
     "text": [
      "Enter your year: 2000\n"
     ]
    },
    {
     "name": "stdout",
     "output_type": "stream",
     "text": [
      "2000 is a leap year\n"
     ]
    }
   ],
   "source": [
    "a=int(input(\"Enter your year:\"))\n",
    "if a%4==0 and a%100==0 and a%400==0:\n",
    "    print(a,\"is a leap year\")\n",
    "else:\n",
    "    print(a,\"is not a leap year\")"
   ]
  },
  {
   "cell_type": "markdown",
   "id": "falling-correction",
   "metadata": {},
   "source": [
    "<h1> Problem 4 <h1>"
   ]
  },
  {
   "cell_type": "code",
   "execution_count": 10,
   "id": "cardiac-worship",
   "metadata": {},
   "outputs": [
    {
     "name": "stdout",
     "output_type": "stream",
     "text": [
      "Choose operation 1.Add\n",
      " 2.Subtract \n",
      " 3.Multiply\n",
      " 4.Division\n"
     ]
    },
    {
     "name": "stdin",
     "output_type": "stream",
     "text": [
      "Enter(1/2/3/4) 2\n",
      "First number 4.5\n",
      "Second number 6\n"
     ]
    },
    {
     "name": "stdout",
     "output_type": "stream",
     "text": [
      "The result is: -1.5\n"
     ]
    }
   ],
   "source": [
    "print(\"\"\"Choose operation 1.Add\n",
    " 2.Subtract \n",
    " 3.Multiply\n",
    " 4.Division\"\"\")\n",
    "a=int(input(\"Enter(1/2/3/4)\"))\n",
    "b=float(input(\"First number\"))\n",
    "c=float(input(\"Second number\"))\n",
    "if a==1:\n",
    "    print(\"The result is:\", b+c)\n",
    "elif a==2:\n",
    "    print(\"The result is:\", b-c)\n",
    "elif a==3:\n",
    "    print(\"The result is;\", b*c)\n",
    "elif a==4:\n",
    "    print(\"The result is:\", b/c)\n",
    "else:\n",
    "    print(\"Invalid Operation\")"
   ]
  },
  {
   "cell_type": "markdown",
   "id": "anticipated-difference",
   "metadata": {},
   "source": [
    "<h1> Problem 5 <h1>"
   ]
  },
  {
   "cell_type": "code",
   "execution_count": 9,
   "id": "elect-transparency",
   "metadata": {},
   "outputs": [
    {
     "name": "stdin",
     "output_type": "stream",
     "text": [
      "Enter your number -7\n"
     ]
    },
    {
     "name": "stdout",
     "output_type": "stream",
     "text": [
      "Negative number\n"
     ]
    }
   ],
   "source": [
    "num=float(input(\"Enter your number\"))\n",
    "if num>0:\n",
    "    print(\"positive number\")\n",
    "elif num==0:\n",
    "    print(\"zero\")\n",
    "else:\n",
    "    print(\"Negative number\")"
   ]
  },
  {
   "cell_type": "markdown",
   "id": "judicial-glossary",
   "metadata": {},
   "source": [
    "<h1> Problem 6 <h1>"
   ]
  },
  {
   "cell_type": "code",
   "execution_count": 11,
   "id": "israeli-embassy",
   "metadata": {},
   "outputs": [
    {
     "name": "stdin",
     "output_type": "stream",
     "text": [
      "Enter Length 10\n",
      "Enter breadth 10\n"
     ]
    },
    {
     "name": "stdout",
     "output_type": "stream",
     "text": [
      "It is a Square\n"
     ]
    }
   ],
   "source": [
    "l=float(input(\"Enter Length\"))\n",
    "b=float(input(\"Enter breadth\"))\n",
    "if l==b:\n",
    "    print(\"It is a Square\")\n",
    "else:\n",
    "    print(\"It is not a Square\")"
   ]
  },
  {
   "cell_type": "markdown",
   "id": "spectacular-stadium",
   "metadata": {},
   "source": [
    "<h1> Problem 7 <h1>"
   ]
  },
  {
   "cell_type": "code",
   "execution_count": 12,
   "id": "hired-rough",
   "metadata": {},
   "outputs": [
    {
     "name": "stdin",
     "output_type": "stream",
     "text": [
      "Enter first number 2\n",
      "Enter second number 3\n",
      "Enter thrid number 5\n"
     ]
    },
    {
     "name": "stdout",
     "output_type": "stream",
     "text": [
      "5 is the largest number\n",
      "2 is the lowest number\n"
     ]
    }
   ],
   "source": [
    "n1=int(input(\"Enter first number\"))\n",
    "n2=int(input(\"Enter second number\"))\n",
    "n3=int(input(\"Enter thrid number\"))\n",
    "if (n1>=n2) and (n1>=n3):\n",
    "    lr=n1\n",
    "elif (n2>=n1) and (n2>=n3):\n",
    "    lr=n2\n",
    "else:\n",
    "    lr=n3\n",
    "print(lr,\"is the largest number\")\n",
    "if (n1<=n2) and (n2<=n3):\n",
    "    lo=n1\n",
    "elif (n2<=n1) and (n2<=n3):\n",
    "    lo=n2\n",
    "else:\n",
    "    lo=n3\n",
    "print(lo,\"is the lowest number\")     \n"
   ]
  },
  {
   "cell_type": "markdown",
   "id": "precise-majority",
   "metadata": {},
   "source": [
    "<h1> Problem 8 <h1>"
   ]
  },
  {
   "cell_type": "code",
   "execution_count": 13,
   "id": "efficient-london",
   "metadata": {},
   "outputs": [
    {
     "name": "stdin",
     "output_type": "stream",
     "text": [
      "Enter your mark 87.5\n"
     ]
    },
    {
     "name": "stdout",
     "output_type": "stream",
     "text": [
      "A+\n"
     ]
    }
   ],
   "source": [
    "a=float(input(\"Enter your mark\"))\n",
    "if 0<=a<=39:\n",
    "    print(\"F\")\n",
    "elif 39<a<45:\n",
    "    print(\"D\")\n",
    "elif 44<a<50:\n",
    "    print(\"C\")\n",
    "elif 49<a<55:\n",
    "    print(\"C+\")\n",
    "elif 54<a<60:\n",
    "    print(\"B-\")\n",
    "elif 59<a<65:\n",
    "    print(\"B\")\n",
    "elif 64<a<70:\n",
    "    print(\"B+\")\n",
    "elif 69<a<75:\n",
    "    print(\"A-\")\n",
    "elif 74<a<80:\n",
    "    print(\"A\")\n",
    "elif 79<a<=100:\n",
    "    print(\"A+\")\n",
    "else:\n",
    "    print(\"invalid mark\")\n",
    "        "
   ]
  },
  {
   "cell_type": "code",
   "execution_count": null,
   "id": "running-provision",
   "metadata": {},
   "outputs": [],
   "source": []
  }
 ],
 "metadata": {
  "kernelspec": {
   "display_name": "Python 3",
   "language": "python",
   "name": "python3"
  },
  "language_info": {
   "codemirror_mode": {
    "name": "ipython",
    "version": 3
   },
   "file_extension": ".py",
   "mimetype": "text/x-python",
   "name": "python",
   "nbconvert_exporter": "python",
   "pygments_lexer": "ipython3",
   "version": "3.8.3"
  }
 },
 "nbformat": 4,
 "nbformat_minor": 5
}
